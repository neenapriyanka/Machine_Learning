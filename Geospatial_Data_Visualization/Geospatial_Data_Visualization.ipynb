{
 "cells": [
  {
   "cell_type": "markdown",
   "metadata": {},
   "source": [
    "## Geospatial Data Visualization"
   ]
  },
  {
   "cell_type": "code",
   "execution_count": null,
   "metadata": {},
   "outputs": [],
   "source": [
    "%%html\n",
    "<style>\n",
    "    /* Jupyter */\n",
    "    .rendered_html table,\n",
    "    /* Jupyter Lab*/\n",
    "    div[data-mime-type=\"text-markdown\"] table {\n",
    "        margin-left: 0\n",
    "    }\n",
    "</style>"
   ]
  },
  {
   "cell_type": "markdown",
   "metadata": {},
   "source": [
    "### Import the necessary Libraries"
   ]
  },
  {
   "cell_type": "code",
   "execution_count": null,
   "metadata": {},
   "outputs": [],
   "source": [
    "# Basic Libaries\n",
    "import pandas as pd # data processing, CSV file I/O (e.g. pd.read_csv)\n",
    "\n",
    "## Geospatial Data Visualization Libraries\n",
    "#!pip install folium - install folium library for mapping\n",
    "import folium\n",
    "from folium.plugins import MarkerCluster"
   ]
  },
  {
   "attachments": {},
   "cell_type": "markdown",
   "metadata": {},
   "source": [
    "### Import property attributes dataset"
   ]
  },
  {
   "cell_type": "code",
   "execution_count": null,
   "metadata": {},
   "outputs": [],
   "source": [
    "df = pd.read_csv(\"innercity.csv\")"
   ]
  },
  {
   "cell_type": "markdown",
   "metadata": {},
   "source": [
    "### Check a few rows of the loaded dataset to ensure if data is loaded is correctly"
   ]
  },
  {
   "cell_type": "code",
   "execution_count": null,
   "metadata": {},
   "outputs": [],
   "source": [
    "df.head()"
   ]
  },
  {
   "cell_type": "markdown",
   "metadata": {},
   "source": [
    "- Dataset is property data from the King county, Washington, USA\n",
    "\n",
    "- King County is considered the most populous county in Washington, and the 12th-most populous in the United States\n",
    "\n",
    "- The data is densely clustered around Seattle-Bellevue-Renton-Kent-Federal Way-Tacoma area, an urban conglomeration\n",
    "\n",
    "- Property data contains 21,613 observations with 23 variables [22 independent and 1 target variable (price)], which includes mostly numerical and date/time attributes and help define property characteristics."
   ]
  },
  {
   "cell_type": "markdown",
   "metadata": {},
   "source": [
    "### Exploratory Data Analysis"
   ]
  },
  {
   "cell_type": "markdown",
   "metadata": {},
   "source": [
    "#### # Check the shape of dataframe"
   ]
  },
  {
   "cell_type": "code",
   "execution_count": null,
   "metadata": {},
   "outputs": [],
   "source": [
    "df.shape"
   ]
  },
  {
   "cell_type": "markdown",
   "metadata": {},
   "source": [
    "Property data contains **21,613** observations with **23** variables, which includes mostly numerical and date/time attributes and help define property characteristics. The dataset contains **22 independent variables** and **1 target variable (price)**. Each entry represents a property characteristics such as number of bedroom, bathroom, measurements (area, height), year built, aesthetic value (proximity to coast, sight etc.) along with locational attributes (lat, lon, zipcode) according to the set of attributes."
   ]
  },
  {
   "cell_type": "markdown",
   "metadata": {},
   "source": [
    "#### # Check the name of fields in data"
   ]
  },
  {
   "cell_type": "code",
   "execution_count": null,
   "metadata": {},
   "outputs": [],
   "source": [
    "df.columns"
   ]
  },
  {
   "cell_type": "markdown",
   "metadata": {},
   "source": [
    "The below table list these attributes with tehir description:"
   ]
  },
  {
   "cell_type": "markdown",
   "metadata": {},
   "source": [
    "#### Attribute Information\n",
    "\n",
    "| Attribute        | Data Type | Description                                                                                                     |\n",
    "|:------------------|:-----------|:-----------------------------------------------------------------------------------------------------------------|\n",
    "| cid              | Numeric   | A notation for a house                                                                                          |\n",
    "| dayhours         | Date/Time | Date house was sold                                                                                             |\n",
    "| price            | Numeric   | Price is prediction target                                                                                      |\n",
    "| room_bed         | Numeric   | Number of Bedrooms/House                                                                                        |\n",
    "| room_bath        | Numeric   | Number of bathrooms/bedrooms                                                                                    |\n",
    "| living_measure   | Numeric   | Square footage of the home                                                                                      |\n",
    "| lot_measure      | Numeric   | Square footage of the lot                                                                                       |\n",
    "| ceil             | Numeric   | Total floors (levels) in house                                                                                  |\n",
    "| coast            | Numeric   | House which has a view to a waterfront                                                                          |\n",
    "| sight            | Numeric   | Has been viewed                                                                                                 |\n",
    "| condition        | Numeric   | How good the condition is (Overall)                                                                             |\n",
    "| quality          | Numeric   | Grade given to the housing unit, based on grading system                                                        |\n",
    "| ceil_measure     | Numeric   | Square footage of house apart from basement                                                                     |\n",
    "| basement_measure | Numeric   | Square footage of the basement                                                                                   |\n",
    "| yr_built         | Numeric   | Built Year                                                                                                      |\n",
    "| yr_renovated     | Numeric   | Year when house was renovated                                                                                   |\n",
    "| zipcode          | Numeric   | Zip                                                                                                             |\n",
    "| lat              | Numeric   | Latitude coordinate                                                                                             |\n",
    "| long             | Numeric   | Longitude coordinate                                                                                            |\n",
    "| living_measure15 | Numeric   | Living room area in 2015 (implies-- some renovations) This might or might not have affected the lotsize area |\n",
    "| lot_measure15    | Numeric   | LotSize area in 2015 (implies-- some renovations)                                                               |\n",
    "| furnished        | Numeric   | Based on the quality of room                                                                                    |\n",
    "| total_area       | Numeric   | Measure of both living and lot       "
   ]
  },
  {
   "cell_type": "markdown",
   "metadata": {},
   "source": [
    "#### # Check the data type and null values present in fields"
   ]
  },
  {
   "cell_type": "code",
   "execution_count": null,
   "metadata": {},
   "outputs": [],
   "source": [
    "df.info()"
   ]
  },
  {
   "cell_type": "markdown",
   "metadata": {},
   "source": [
    "*No null value is present in the data*"
   ]
  },
  {
   "cell_type": "markdown",
   "metadata": {},
   "source": [
    "#### Count of unique values in each field"
   ]
  },
  {
   "cell_type": "code",
   "execution_count": null,
   "metadata": {},
   "outputs": [],
   "source": [
    "df.nunique()"
   ]
  },
  {
   "cell_type": "markdown",
   "metadata": {},
   "source": [
    "#### Check for missing values"
   ]
  },
  {
   "cell_type": "code",
   "execution_count": null,
   "metadata": {},
   "outputs": [],
   "source": [
    "df.isnull().sum()"
   ]
  },
  {
   "cell_type": "markdown",
   "metadata": {},
   "source": [
    "*No missing value is present in the data*"
   ]
  },
  {
   "cell_type": "markdown",
   "metadata": {},
   "source": [
    "#### Check rows with missing values"
   ]
  },
  {
   "cell_type": "code",
   "execution_count": null,
   "metadata": {},
   "outputs": [],
   "source": [
    "df[df.isnull().any(axis=1)]"
   ]
  },
  {
   "cell_type": "markdown",
   "metadata": {},
   "source": [
    "*No duplicate rows exists and hence no duplicate removal step is required*"
   ]
  },
  {
   "cell_type": "markdown",
   "metadata": {},
   "source": [
    "#### Viewing the data statistics"
   ]
  },
  {
   "cell_type": "code",
   "execution_count": null,
   "metadata": {},
   "outputs": [],
   "source": [
    "df1 = df.describe().transpose()\n",
    "dfStyler = df1.style.set_properties(**{'text-align': 'left'})\n",
    "dfStyler.set_table_styles([dict(selector='th', props=[('text-align', 'left')])])"
   ]
  },
  {
   "cell_type": "markdown",
   "metadata": {},
   "source": [
    "Describe function illustrates that various fields/attributes have 0 values in the data. Whether these Zero are meaningful or require cleansing would require further data exploration. A few outliers are present in the data (for example75% of the data in field room_bed is within limits of 3 bedroom but value such as 33 is seen as max value) which need to be imputed with right strategy. Skewness is present in the data as well. "
   ]
  },
  {
   "cell_type": "markdown",
   "metadata": {},
   "source": [
    "### Geospatial Data Visualization using Folium Library"
   ]
  },
  {
   "cell_type": "markdown",
   "metadata": {},
   "source": [
    "#### Map with simple marker"
   ]
  },
  {
   "cell_type": "code",
   "execution_count": null,
   "metadata": {},
   "outputs": [],
   "source": [
    "# Create Map: Basemap - OpenStreet Map\n",
    "property_map = folium.Map(\n",
    "    location=[df['lat'].mean(), \n",
    "              df['long'].mean()], \n",
    "    zoom_start=11,\n",
    "    control_scale=True\n",
    ")\n",
    "\n",
    "for i in range(len(df)):\n",
    "    \n",
    "    folium.CircleMarker(\n",
    "        location = [df.lat.iloc[i], df.long.iloc[i]],\n",
    "        radius = 3,\n",
    "        popup = df.cid.iloc[i],\n",
    "        color = 'blue',\n",
    "        opacity = 0.2\n",
    "    ).add_to(property_map) \n",
    "    \n",
    "property_map"
   ]
  },
  {
   "cell_type": "markdown",
   "metadata": {},
   "source": [
    "#### Cluster Map"
   ]
  },
  {
   "cell_type": "code",
   "execution_count": null,
   "metadata": {
    "scrolled": false
   },
   "outputs": [],
   "source": [
    "# Create Map with clustering: Basemap - OpenStreet Map\n",
    "property_map = folium.Map(\n",
    "    location=[df['lat'].mean(), \n",
    "              df['long'].mean()], \n",
    "    zoom_start=11,\n",
    "    control_scale=True)\n",
    "\n",
    "mc = MarkerCluster()\n",
    "\n",
    "#creating a Marker for each point in dataframe. Each point will get a popup with their unique identifier (cid) value\n",
    "for row in df.itertuples():\n",
    "    mc.add_child(folium.Marker(location=[row.lat,row.long], popup=row.cid))\n",
    "property_map.add_child(mc)\n",
    "property_map\n",
    "## Other background Maps can be added. Options are\n",
    "    # \"OpenStreetMap\" -- default option\n",
    "    # \"Mapbox Bright\" (Limited levels of zoom for free tiles)\n",
    "    # \"Mapbox Control Room\" (Limited levels of zoom for free tiles)\n",
    "    # \"Stamen\" (Terrain, Toner, and Watercolor)\n",
    "    # \"Cloudmade\" (Must pass API key)\n",
    "    # \"Mapbox\" (Must pass API key)\n",
    "    # \"CartoDB\" (positron and dark_matter)"
   ]
  },
  {
   "cell_type": "markdown",
   "metadata": {},
   "source": [
    "#### Heatmap"
   ]
  },
  {
   "cell_type": "code",
   "execution_count": null,
   "metadata": {},
   "outputs": [],
   "source": [
    "# Create HeatMap\n",
    "from folium.plugins import HeatMap\n",
    "property_map = folium.Map(\n",
    "    location=[df['lat'].mean(), \n",
    "              df['long'].mean()], \n",
    "    tiles='Stamen Terrain',\n",
    "    attr='Map tiles by Stamen Design, under CC BY 3.0. Data by OpenStreetMap, under ODbL',\n",
    "    zoom_start=11,\n",
    "    control_scale=True\n",
    ")\n",
    "\n",
    "df['count'] = 1\n",
    "property_heatmap = HeatMap(\n",
    "    data=df[['lat', 'long', 'count']].groupby(['lat', 'long']).sum().reset_index().values.tolist(), \n",
    "    name = 'Heatmap',\n",
    "    radius = 10, \n",
    "    min_opacity = 0.1, \n",
    "    max_zoom=16,\n",
    "    opacity = 10\n",
    ").add_to(property_map)\n",
    "         \n",
    "folium.LayerControl().add_to(property_map)\n",
    "property_map\n"
   ]
  },
  {
   "cell_type": "code",
   "execution_count": null,
   "metadata": {},
   "outputs": [],
   "source": []
  }
 ],
 "metadata": {
  "kernelspec": {
   "display_name": "Python 3",
   "language": "python",
   "name": "python3"
  },
  "language_info": {
   "codemirror_mode": {
    "name": "ipython",
    "version": 3
   },
   "file_extension": ".py",
   "mimetype": "text/x-python",
   "name": "python",
   "nbconvert_exporter": "python",
   "pygments_lexer": "ipython3",
   "version": "3.7.3"
  }
 },
 "nbformat": 4,
 "nbformat_minor": 2
}
